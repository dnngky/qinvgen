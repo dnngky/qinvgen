{
 "cells": [
  {
   "cell_type": "code",
   "execution_count": 6,
   "metadata": {},
   "outputs": [],
   "source": [
    "from qiskit import QuantumCircuit, QuantumRegister, ClassicalRegister, qasm2, qasm3\n",
    "from qiskit.circuit import WhileLoopOp, IfElseOp"
   ]
  },
  {
   "cell_type": "code",
   "execution_count": 8,
   "metadata": {},
   "outputs": [
    {
     "name": "stdout",
     "output_type": "stream",
     "text": [
      "     ┌───────── ┌───┐┌─┐ ───────┐   ┌──────           ───────┐    \n",
      "q_0: ┤          ┤ X ├┤M├        ├───┤       ─────────        ├────\n",
      "     │ While-0  └───┘└╥┘  End-0 │   │ If-0   ┌───┐┌─┐  End-0 │ ┌─┐\n",
      "q_1: ┤          ──────╫─        ├───┤       ─┤ H ├┤M├        ├─┤M├\n",
      "     └────╥────       ║  ───────┘   └──╥───  └───┘└╥┘ ───────┘ └╥┘\n",
      "     ┌────╨────┐      ║           ┌────╨────┐      ║            ║ \n",
      "c: 2/╡ c_0=0x0 ╞══════╩═══════════╡ c_1=0x1 ╞══════╩════════════╩═\n",
      "     └─────────┘      0           └─────────┘      1            1 \n"
     ]
    }
   ],
   "source": [
    "# Create quantum and classical registers\n",
    "qr = QuantumRegister(2, 'q')\n",
    "cr = ClassicalRegister(2, 'c')\n",
    "qc = QuantumCircuit(qr, cr)\n",
    "\n",
    "# Define the loop body\n",
    "loop_body = QuantumCircuit(qr, cr)\n",
    "loop_body.x(qr[0])\n",
    "loop_body.measure(qr[0], cr[0])\n",
    "\n",
    "cond_body = QuantumCircuit(qr, cr)\n",
    "cond_body.h(qr[1])\n",
    "cond_body.measure(qr[1], cr[1])\n",
    "\n",
    "# Create the WhileLoopOp\n",
    "while_loop = WhileLoopOp((cr[0], 0), loop_body)\n",
    "ifelse_stmt = IfElseOp((cr[1], 1), cond_body)\n",
    "\n",
    "# Add the while loop to the main circuit\n",
    "qc.append(while_loop, qr, cr)\n",
    "qc.append(ifelse_stmt, qr, cr)\n",
    "\n",
    "# Measure the final state\n",
    "qc.measure(qr[1], cr[1])\n",
    "\n",
    "print(qc)"
   ]
  },
  {
   "cell_type": "code",
   "execution_count": 9,
   "metadata": {},
   "outputs": [],
   "source": [
    "with open(\"qc.qasm\", 'w') as file:\n",
    "    qasm3.dump(qc, file)"
   ]
  },
  {
   "cell_type": "code",
   "execution_count": 33,
   "metadata": {},
   "outputs": [],
   "source": [
    "from qiskit.quantum_info import Operator, SuperOp\n",
    "from qiskit.circuit.library import IGate\n",
    "import numpy as np"
   ]
  },
  {
   "cell_type": "code",
   "execution_count": 32,
   "metadata": {},
   "outputs": [
    {
     "data": {
      "text/plain": [
       "array([[1.+0.j, 0.+0.j, 0.+0.j, 0.+0.j, 0.+0.j, 0.+0.j, 0.+0.j, 0.+0.j],\n",
       "       [0.+0.j, 1.+0.j, 0.+0.j, 0.+0.j, 0.+0.j, 0.+0.j, 0.+0.j, 0.+0.j],\n",
       "       [0.+0.j, 0.+0.j, 1.+0.j, 0.+0.j, 0.+0.j, 0.+0.j, 0.+0.j, 0.+0.j],\n",
       "       [0.+0.j, 0.+0.j, 0.+0.j, 1.+0.j, 0.+0.j, 0.+0.j, 0.+0.j, 0.+0.j],\n",
       "       [0.+0.j, 0.+0.j, 0.+0.j, 0.+0.j, 1.+0.j, 0.+0.j, 0.+0.j, 0.+0.j],\n",
       "       [0.+0.j, 0.+0.j, 0.+0.j, 0.+0.j, 0.+0.j, 1.+0.j, 0.+0.j, 0.+0.j],\n",
       "       [0.+0.j, 0.+0.j, 0.+0.j, 0.+0.j, 0.+0.j, 0.+0.j, 1.+0.j, 0.+0.j],\n",
       "       [0.+0.j, 0.+0.j, 0.+0.j, 0.+0.j, 0.+0.j, 0.+0.j, 0.+0.j, 1.+0.j]])"
      ]
     },
     "execution_count": 32,
     "metadata": {},
     "output_type": "execute_result"
    }
   ],
   "source": [
    "id_qc = QuantumCircuit(3)\n",
    "id_qc.id(0)\n",
    "id_qc.id(1)\n",
    "id_qc.id(2)\n",
    "op = Operator(id_qc)\n",
    "op.data"
   ]
  },
  {
   "cell_type": "code",
   "execution_count": 39,
   "metadata": {},
   "outputs": [
    {
     "data": {
      "text/plain": [
       "array([[1.+0.j, 0.+0.j],\n",
       "       [0.+0.j, 1.+0.j]])"
      ]
     },
     "execution_count": 39,
     "metadata": {},
     "output_type": "execute_result"
    }
   ],
   "source": [
    "op = np.array([1+0j])\n",
    "np.kron(op, IGate().to_matrix())"
   ]
  }
 ],
 "metadata": {
  "kernelspec": {
   "display_name": "qinvgen",
   "language": "python",
   "name": "python3"
  },
  "language_info": {
   "codemirror_mode": {
    "name": "ipython",
    "version": 3
   },
   "file_extension": ".py",
   "mimetype": "text/x-python",
   "name": "python",
   "nbconvert_exporter": "python",
   "pygments_lexer": "ipython3",
   "version": "3.13.0"
  }
 },
 "nbformat": 4,
 "nbformat_minor": 2
}
